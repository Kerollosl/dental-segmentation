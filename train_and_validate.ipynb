{
  "cells": [
    {
      "cell_type": "markdown",
      "metadata": {
        "id": "sC9OyXfhEe9q"
      },
      "source": [
        "# Install Packages and Download Dataset"
      ]
    },
    {
      "cell_type": "markdown",
      "metadata": {
        "id": "QkN9bHaAGJg2"
      },
      "source": [
        "**https://universe.roboflow.com/usety1975-ncrcr/de-r0ca9**"
      ]
    },
    {
      "cell_type": "code",
      "execution_count": null,
      "metadata": {
        "colab": {
          "base_uri": "https://localhost:8080/"
        },
        "id": "jG52lsjLfKm1",
        "outputId": "a298f195-2def-4773-f192-bb0dd81bee03"
      },
      "outputs": [
        {
          "output_type": "stream",
          "name": "stdout",
          "text": [
            "Collecting roboflow\n",
            "  Downloading roboflow-1.1.37-py3-none-any.whl.metadata (9.4 kB)\n",
            "Requirement already satisfied: certifi in /usr/local/lib/python3.10/dist-packages (from roboflow) (2024.7.4)\n",
            "Collecting chardet==4.0.0 (from roboflow)\n",
            "  Downloading chardet-4.0.0-py2.py3-none-any.whl.metadata (3.5 kB)\n",
            "Requirement already satisfied: idna==3.7 in /usr/local/lib/python3.10/dist-packages (from roboflow) (3.7)\n",
            "Requirement already satisfied: cycler in /usr/local/lib/python3.10/dist-packages (from roboflow) (0.12.1)\n",
            "Requirement already satisfied: kiwisolver>=1.3.1 in /usr/local/lib/python3.10/dist-packages (from roboflow) (1.4.5)\n",
            "Requirement already satisfied: matplotlib in /usr/local/lib/python3.10/dist-packages (from roboflow) (3.7.1)\n",
            "Requirement already satisfied: numpy>=1.18.5 in /usr/local/lib/python3.10/dist-packages (from roboflow) (1.26.4)\n",
            "Requirement already satisfied: opencv-python-headless==4.10.0.84 in /usr/local/lib/python3.10/dist-packages (from roboflow) (4.10.0.84)\n",
            "Requirement already satisfied: Pillow>=7.1.2 in /usr/local/lib/python3.10/dist-packages (from roboflow) (9.4.0)\n",
            "Requirement already satisfied: python-dateutil in /usr/local/lib/python3.10/dist-packages (from roboflow) (2.8.2)\n",
            "Collecting python-dotenv (from roboflow)\n",
            "  Downloading python_dotenv-1.0.1-py3-none-any.whl.metadata (23 kB)\n",
            "Requirement already satisfied: requests in /usr/local/lib/python3.10/dist-packages (from roboflow) (2.32.3)\n",
            "Requirement already satisfied: six in /usr/local/lib/python3.10/dist-packages (from roboflow) (1.16.0)\n",
            "Requirement already satisfied: urllib3>=1.26.6 in /usr/local/lib/python3.10/dist-packages (from roboflow) (2.0.7)\n",
            "Requirement already satisfied: tqdm>=4.41.0 in /usr/local/lib/python3.10/dist-packages (from roboflow) (4.66.5)\n",
            "Requirement already satisfied: PyYAML>=5.3.1 in /usr/local/lib/python3.10/dist-packages (from roboflow) (6.0.2)\n",
            "Collecting requests-toolbelt (from roboflow)\n",
            "  Downloading requests_toolbelt-1.0.0-py2.py3-none-any.whl.metadata (14 kB)\n",
            "Collecting filetype (from roboflow)\n",
            "  Downloading filetype-1.2.0-py2.py3-none-any.whl.metadata (6.5 kB)\n",
            "Requirement already satisfied: contourpy>=1.0.1 in /usr/local/lib/python3.10/dist-packages (from matplotlib->roboflow) (1.2.1)\n",
            "Requirement already satisfied: fonttools>=4.22.0 in /usr/local/lib/python3.10/dist-packages (from matplotlib->roboflow) (4.53.1)\n",
            "Requirement already satisfied: packaging>=20.0 in /usr/local/lib/python3.10/dist-packages (from matplotlib->roboflow) (24.1)\n",
            "Requirement already satisfied: pyparsing>=2.3.1 in /usr/local/lib/python3.10/dist-packages (from matplotlib->roboflow) (3.1.2)\n",
            "Requirement already satisfied: charset-normalizer<4,>=2 in /usr/local/lib/python3.10/dist-packages (from requests->roboflow) (3.3.2)\n",
            "Downloading roboflow-1.1.37-py3-none-any.whl (76 kB)\n",
            "\u001b[2K   \u001b[90m━━━━━━━━━━━━━━━━━━━━━━━━━━━━━━━━━━━━━━━━\u001b[0m \u001b[32m76.9/76.9 kB\u001b[0m \u001b[31m8.0 MB/s\u001b[0m eta \u001b[36m0:00:00\u001b[0m\n",
            "\u001b[?25hDownloading chardet-4.0.0-py2.py3-none-any.whl (178 kB)\n",
            "\u001b[2K   \u001b[90m━━━━━━━━━━━━━━━━━━━━━━━━━━━━━━━━━━━━━━━━\u001b[0m \u001b[32m178.7/178.7 kB\u001b[0m \u001b[31m17.8 MB/s\u001b[0m eta \u001b[36m0:00:00\u001b[0m\n",
            "\u001b[?25hDownloading filetype-1.2.0-py2.py3-none-any.whl (19 kB)\n",
            "Downloading python_dotenv-1.0.1-py3-none-any.whl (19 kB)\n",
            "Downloading requests_toolbelt-1.0.0-py2.py3-none-any.whl (54 kB)\n",
            "\u001b[2K   \u001b[90m━━━━━━━━━━━━━━━━━━━━━━━━━━━━━━━━━━━━━━━━\u001b[0m \u001b[32m54.5/54.5 kB\u001b[0m \u001b[31m5.5 MB/s\u001b[0m eta \u001b[36m0:00:00\u001b[0m\n",
            "\u001b[?25hInstalling collected packages: filetype, python-dotenv, chardet, requests-toolbelt, roboflow\n",
            "  Attempting uninstall: chardet\n",
            "    Found existing installation: chardet 5.2.0\n",
            "    Uninstalling chardet-5.2.0:\n",
            "      Successfully uninstalled chardet-5.2.0\n",
            "Successfully installed chardet-4.0.0 filetype-1.2.0 python-dotenv-1.0.1 requests-toolbelt-1.0.0 roboflow-1.1.37\n",
            "Collecting ultralytics\n",
            "  Downloading ultralytics-8.2.76-py3-none-any.whl.metadata (41 kB)\n",
            "\u001b[2K     \u001b[90m━━━━━━━━━━━━━━━━━━━━━━━━━━━━━━━━━━━━━━━━\u001b[0m \u001b[32m41.3/41.3 kB\u001b[0m \u001b[31m3.5 MB/s\u001b[0m eta \u001b[36m0:00:00\u001b[0m\n",
            "\u001b[?25hRequirement already satisfied: numpy<2.0.0,>=1.23.0 in /usr/local/lib/python3.10/dist-packages (from ultralytics) (1.26.4)\n",
            "Requirement already satisfied: matplotlib>=3.3.0 in /usr/local/lib/python3.10/dist-packages (from ultralytics) (3.7.1)\n",
            "Requirement already satisfied: opencv-python>=4.6.0 in /usr/local/lib/python3.10/dist-packages (from ultralytics) (4.10.0.84)\n",
            "Requirement already satisfied: pillow>=7.1.2 in /usr/local/lib/python3.10/dist-packages (from ultralytics) (9.4.0)\n",
            "Requirement already satisfied: pyyaml>=5.3.1 in /usr/local/lib/python3.10/dist-packages (from ultralytics) (6.0.2)\n",
            "Requirement already satisfied: requests>=2.23.0 in /usr/local/lib/python3.10/dist-packages (from ultralytics) (2.32.3)\n",
            "Requirement already satisfied: scipy>=1.4.1 in /usr/local/lib/python3.10/dist-packages (from ultralytics) (1.13.1)\n",
            "Requirement already satisfied: torch>=1.8.0 in /usr/local/lib/python3.10/dist-packages (from ultralytics) (2.3.1+cu121)\n",
            "Requirement already satisfied: torchvision>=0.9.0 in /usr/local/lib/python3.10/dist-packages (from ultralytics) (0.18.1+cu121)\n",
            "Requirement already satisfied: tqdm>=4.64.0 in /usr/local/lib/python3.10/dist-packages (from ultralytics) (4.66.5)\n",
            "Requirement already satisfied: psutil in /usr/local/lib/python3.10/dist-packages (from ultralytics) (5.9.5)\n",
            "Requirement already satisfied: py-cpuinfo in /usr/local/lib/python3.10/dist-packages (from ultralytics) (9.0.0)\n",
            "Requirement already satisfied: pandas>=1.1.4 in /usr/local/lib/python3.10/dist-packages (from ultralytics) (2.1.4)\n",
            "Requirement already satisfied: seaborn>=0.11.0 in /usr/local/lib/python3.10/dist-packages (from ultralytics) (0.13.1)\n",
            "Collecting ultralytics-thop>=2.0.0 (from ultralytics)\n",
            "  Downloading ultralytics_thop-2.0.0-py3-none-any.whl.metadata (8.5 kB)\n",
            "Requirement already satisfied: contourpy>=1.0.1 in /usr/local/lib/python3.10/dist-packages (from matplotlib>=3.3.0->ultralytics) (1.2.1)\n",
            "Requirement already satisfied: cycler>=0.10 in /usr/local/lib/python3.10/dist-packages (from matplotlib>=3.3.0->ultralytics) (0.12.1)\n",
            "Requirement already satisfied: fonttools>=4.22.0 in /usr/local/lib/python3.10/dist-packages (from matplotlib>=3.3.0->ultralytics) (4.53.1)\n",
            "Requirement already satisfied: kiwisolver>=1.0.1 in /usr/local/lib/python3.10/dist-packages (from matplotlib>=3.3.0->ultralytics) (1.4.5)\n",
            "Requirement already satisfied: packaging>=20.0 in /usr/local/lib/python3.10/dist-packages (from matplotlib>=3.3.0->ultralytics) (24.1)\n",
            "Requirement already satisfied: pyparsing>=2.3.1 in /usr/local/lib/python3.10/dist-packages (from matplotlib>=3.3.0->ultralytics) (3.1.2)\n",
            "Requirement already satisfied: python-dateutil>=2.7 in /usr/local/lib/python3.10/dist-packages (from matplotlib>=3.3.0->ultralytics) (2.8.2)\n",
            "Requirement already satisfied: pytz>=2020.1 in /usr/local/lib/python3.10/dist-packages (from pandas>=1.1.4->ultralytics) (2024.1)\n",
            "Requirement already satisfied: tzdata>=2022.1 in /usr/local/lib/python3.10/dist-packages (from pandas>=1.1.4->ultralytics) (2024.1)\n",
            "Requirement already satisfied: charset-normalizer<4,>=2 in /usr/local/lib/python3.10/dist-packages (from requests>=2.23.0->ultralytics) (3.3.2)\n",
            "Requirement already satisfied: idna<4,>=2.5 in /usr/local/lib/python3.10/dist-packages (from requests>=2.23.0->ultralytics) (3.7)\n",
            "Requirement already satisfied: urllib3<3,>=1.21.1 in /usr/local/lib/python3.10/dist-packages (from requests>=2.23.0->ultralytics) (2.0.7)\n",
            "Requirement already satisfied: certifi>=2017.4.17 in /usr/local/lib/python3.10/dist-packages (from requests>=2.23.0->ultralytics) (2024.7.4)\n",
            "Requirement already satisfied: filelock in /usr/local/lib/python3.10/dist-packages (from torch>=1.8.0->ultralytics) (3.15.4)\n",
            "Requirement already satisfied: typing-extensions>=4.8.0 in /usr/local/lib/python3.10/dist-packages (from torch>=1.8.0->ultralytics) (4.12.2)\n",
            "Requirement already satisfied: sympy in /usr/local/lib/python3.10/dist-packages (from torch>=1.8.0->ultralytics) (1.13.1)\n",
            "Requirement already satisfied: networkx in /usr/local/lib/python3.10/dist-packages (from torch>=1.8.0->ultralytics) (3.3)\n",
            "Requirement already satisfied: jinja2 in /usr/local/lib/python3.10/dist-packages (from torch>=1.8.0->ultralytics) (3.1.4)\n",
            "Requirement already satisfied: fsspec in /usr/local/lib/python3.10/dist-packages (from torch>=1.8.0->ultralytics) (2024.6.1)\n",
            "Collecting nvidia-cuda-nvrtc-cu12==12.1.105 (from torch>=1.8.0->ultralytics)\n",
            "  Using cached nvidia_cuda_nvrtc_cu12-12.1.105-py3-none-manylinux1_x86_64.whl.metadata (1.5 kB)\n",
            "Collecting nvidia-cuda-runtime-cu12==12.1.105 (from torch>=1.8.0->ultralytics)\n",
            "  Using cached nvidia_cuda_runtime_cu12-12.1.105-py3-none-manylinux1_x86_64.whl.metadata (1.5 kB)\n",
            "Collecting nvidia-cuda-cupti-cu12==12.1.105 (from torch>=1.8.0->ultralytics)\n",
            "  Using cached nvidia_cuda_cupti_cu12-12.1.105-py3-none-manylinux1_x86_64.whl.metadata (1.6 kB)\n",
            "Collecting nvidia-cudnn-cu12==8.9.2.26 (from torch>=1.8.0->ultralytics)\n",
            "  Using cached nvidia_cudnn_cu12-8.9.2.26-py3-none-manylinux1_x86_64.whl.metadata (1.6 kB)\n",
            "Collecting nvidia-cublas-cu12==12.1.3.1 (from torch>=1.8.0->ultralytics)\n",
            "  Using cached nvidia_cublas_cu12-12.1.3.1-py3-none-manylinux1_x86_64.whl.metadata (1.5 kB)\n",
            "Collecting nvidia-cufft-cu12==11.0.2.54 (from torch>=1.8.0->ultralytics)\n",
            "  Using cached nvidia_cufft_cu12-11.0.2.54-py3-none-manylinux1_x86_64.whl.metadata (1.5 kB)\n",
            "Collecting nvidia-curand-cu12==10.3.2.106 (from torch>=1.8.0->ultralytics)\n",
            "  Using cached nvidia_curand_cu12-10.3.2.106-py3-none-manylinux1_x86_64.whl.metadata (1.5 kB)\n",
            "Collecting nvidia-cusolver-cu12==11.4.5.107 (from torch>=1.8.0->ultralytics)\n",
            "  Using cached nvidia_cusolver_cu12-11.4.5.107-py3-none-manylinux1_x86_64.whl.metadata (1.6 kB)\n",
            "Collecting nvidia-cusparse-cu12==12.1.0.106 (from torch>=1.8.0->ultralytics)\n",
            "  Using cached nvidia_cusparse_cu12-12.1.0.106-py3-none-manylinux1_x86_64.whl.metadata (1.6 kB)\n",
            "Collecting nvidia-nccl-cu12==2.20.5 (from torch>=1.8.0->ultralytics)\n",
            "  Using cached nvidia_nccl_cu12-2.20.5-py3-none-manylinux2014_x86_64.whl.metadata (1.8 kB)\n",
            "Collecting nvidia-nvtx-cu12==12.1.105 (from torch>=1.8.0->ultralytics)\n",
            "  Using cached nvidia_nvtx_cu12-12.1.105-py3-none-manylinux1_x86_64.whl.metadata (1.7 kB)\n",
            "Requirement already satisfied: triton==2.3.1 in /usr/local/lib/python3.10/dist-packages (from torch>=1.8.0->ultralytics) (2.3.1)\n",
            "Collecting nvidia-nvjitlink-cu12 (from nvidia-cusolver-cu12==11.4.5.107->torch>=1.8.0->ultralytics)\n",
            "  Using cached nvidia_nvjitlink_cu12-12.6.20-py3-none-manylinux2014_x86_64.whl.metadata (1.5 kB)\n",
            "Requirement already satisfied: six>=1.5 in /usr/local/lib/python3.10/dist-packages (from python-dateutil>=2.7->matplotlib>=3.3.0->ultralytics) (1.16.0)\n",
            "Requirement already satisfied: MarkupSafe>=2.0 in /usr/local/lib/python3.10/dist-packages (from jinja2->torch>=1.8.0->ultralytics) (2.1.5)\n",
            "Requirement already satisfied: mpmath<1.4,>=1.1.0 in /usr/local/lib/python3.10/dist-packages (from sympy->torch>=1.8.0->ultralytics) (1.3.0)\n",
            "Downloading ultralytics-8.2.76-py3-none-any.whl (865 kB)\n",
            "\u001b[2K   \u001b[90m━━━━━━━━━━━━━━━━━━━━━━━━━━━━━━━━━━━━━━━━\u001b[0m \u001b[32m865.6/865.6 kB\u001b[0m \u001b[31m60.2 MB/s\u001b[0m eta \u001b[36m0:00:00\u001b[0m\n",
            "\u001b[?25hUsing cached nvidia_cublas_cu12-12.1.3.1-py3-none-manylinux1_x86_64.whl (410.6 MB)\n",
            "Using cached nvidia_cuda_cupti_cu12-12.1.105-py3-none-manylinux1_x86_64.whl (14.1 MB)\n",
            "Using cached nvidia_cuda_nvrtc_cu12-12.1.105-py3-none-manylinux1_x86_64.whl (23.7 MB)\n",
            "Using cached nvidia_cuda_runtime_cu12-12.1.105-py3-none-manylinux1_x86_64.whl (823 kB)\n",
            "Using cached nvidia_cudnn_cu12-8.9.2.26-py3-none-manylinux1_x86_64.whl (731.7 MB)\n",
            "Using cached nvidia_cufft_cu12-11.0.2.54-py3-none-manylinux1_x86_64.whl (121.6 MB)\n",
            "Using cached nvidia_curand_cu12-10.3.2.106-py3-none-manylinux1_x86_64.whl (56.5 MB)\n",
            "Using cached nvidia_cusolver_cu12-11.4.5.107-py3-none-manylinux1_x86_64.whl (124.2 MB)\n",
            "Using cached nvidia_cusparse_cu12-12.1.0.106-py3-none-manylinux1_x86_64.whl (196.0 MB)\n",
            "Using cached nvidia_nccl_cu12-2.20.5-py3-none-manylinux2014_x86_64.whl (176.2 MB)\n",
            "Using cached nvidia_nvtx_cu12-12.1.105-py3-none-manylinux1_x86_64.whl (99 kB)\n",
            "Downloading ultralytics_thop-2.0.0-py3-none-any.whl (25 kB)\n",
            "Using cached nvidia_nvjitlink_cu12-12.6.20-py3-none-manylinux2014_x86_64.whl (19.7 MB)\n",
            "Installing collected packages: nvidia-nvtx-cu12, nvidia-nvjitlink-cu12, nvidia-nccl-cu12, nvidia-curand-cu12, nvidia-cufft-cu12, nvidia-cuda-runtime-cu12, nvidia-cuda-nvrtc-cu12, nvidia-cuda-cupti-cu12, nvidia-cublas-cu12, nvidia-cusparse-cu12, nvidia-cudnn-cu12, nvidia-cusolver-cu12, ultralytics-thop, ultralytics\n",
            "Successfully installed nvidia-cublas-cu12-12.1.3.1 nvidia-cuda-cupti-cu12-12.1.105 nvidia-cuda-nvrtc-cu12-12.1.105 nvidia-cuda-runtime-cu12-12.1.105 nvidia-cudnn-cu12-8.9.2.26 nvidia-cufft-cu12-11.0.2.54 nvidia-curand-cu12-10.3.2.106 nvidia-cusolver-cu12-11.4.5.107 nvidia-cusparse-cu12-12.1.0.106 nvidia-nccl-cu12-2.20.5 nvidia-nvjitlink-cu12-12.6.20 nvidia-nvtx-cu12-12.1.105 ultralytics-8.2.76 ultralytics-thop-2.0.0\n"
          ]
        }
      ],
      "source": [
        "#Roboflow for Dataset\n",
        "!pip install roboflow\n",
        "\n",
        "#YOLOV8\n",
        "!pip install ultralytics"
      ]
    },
    {
      "cell_type": "code",
      "execution_count": null,
      "metadata": {
        "colab": {
          "base_uri": "https://localhost:8080/"
        },
        "id": "7FqZPNshOV7M",
        "outputId": "044adca7-05be-439c-c84a-30b522a7660d"
      },
      "outputs": [
        {
          "output_type": "stream",
          "name": "stdout",
          "text": [
            "loading Roboflow workspace...\n",
            "loading Roboflow project...\n"
          ]
        },
        {
          "output_type": "stream",
          "name": "stderr",
          "text": [
            "Downloading Dataset Version Zip in de-3 to yolov8-obb:: 100%|██████████| 790021/790021 [00:42<00:00, 18465.86it/s]"
          ]
        },
        {
          "output_type": "stream",
          "name": "stdout",
          "text": [
            "\n"
          ]
        },
        {
          "output_type": "stream",
          "name": "stderr",
          "text": [
            "\n",
            "Extracting Dataset Version Zip to de-3 in yolov8-obb:: 100%|██████████| 20024/20024 [00:03<00:00, 5847.58it/s]\n"
          ]
        }
      ],
      "source": [
        "from roboflow import Roboflow\n",
        "rf = Roboflow(api_key=\"ueSrp8zT1NmWHzCxoYmt\")\n",
        "project = rf.workspace(\"usety1975-ncrcr\").project(\"de-r0ca9\")\n",
        "version = project.version(3)\n",
        "dataset = version.download(\"yolov8-obb\")"
      ]
    },
    {
      "cell_type": "code",
      "execution_count": null,
      "metadata": {
        "colab": {
          "base_uri": "https://localhost:8080/"
        },
        "id": "lFQfD4AiiOrJ",
        "outputId": "125ae920-f058-4baf-d869-acb4b339f907"
      },
      "outputs": [
        {
          "output_type": "stream",
          "name": "stdout",
          "text": [
            "Ultralytics YOLOv8.2.76 🚀 Python-3.10.12 torch-2.3.1+cu121 CUDA:0 (NVIDIA A100-SXM4-40GB, 40514MiB)\n",
            "Setup complete ✅ (12 CPUs, 83.5 GB RAM, 34.4/78.2 GB disk)\n"
          ]
        }
      ],
      "source": [
        "import ultralytics\n",
        "\n",
        "# Check GPU\n",
        "ultralytics.checks()"
      ]
    },
    {
      "cell_type": "markdown",
      "metadata": {
        "id": "fu67LwtJEqLg"
      },
      "source": [
        "# Fix YAML Paths"
      ]
    },
    {
      "cell_type": "code",
      "execution_count": null,
      "metadata": {
        "id": "fI1m4NkRP8F4"
      },
      "outputs": [],
      "source": [
        "import yaml\n",
        "import os\n",
        "\n",
        "def edit_yaml_paths(yaml_file_path):\n",
        "    # Dataset main directory\n",
        "    root_dir = os.path.dirname(yaml_file_path)\n",
        "\n",
        "    # Load the YAML file\n",
        "    with open(yaml_file_path, 'r') as file:\n",
        "        data = yaml.safe_load(file)\n",
        "\n",
        "    # Modify YAML file to include correct subset paths\n",
        "    data['train'] = os.path.join(root_dir, 'train/images')\n",
        "    data['val'] = os.path.join(root_dir, 'valid/images')\n",
        "    data['test'] = os.path.join(root_dir, 'test/images')\n",
        "\n",
        "    with open(yaml_file_path, 'w') as file:\n",
        "        yaml.safe_dump(data, file)\n",
        "\n",
        "    print(\"YAML file updated successfully!\")\n"
      ]
    },
    {
      "cell_type": "code",
      "execution_count": null,
      "metadata": {
        "colab": {
          "base_uri": "https://localhost:8080/"
        },
        "id": "UcKD2WStWmVl",
        "outputId": "abcc95b0-328a-47fb-98f3-790545de9114"
      },
      "outputs": [
        {
          "output_type": "stream",
          "name": "stdout",
          "text": [
            "YAML file updated successfully!\n"
          ]
        }
      ],
      "source": [
        "yaml_path = '/content/de-3/data.yaml'\n",
        "edit_yaml_paths(yaml_path)"
      ]
    },
    {
      "cell_type": "markdown",
      "metadata": {
        "id": "2Y3IBnDDExIb"
      },
      "source": [
        "# Create, Train, and Validate Model"
      ]
    },
    {
      "cell_type": "code",
      "execution_count": null,
      "metadata": {
        "colab": {
          "base_uri": "https://localhost:8080/"
        },
        "id": "_Eog0oJyfggc",
        "outputId": "01fa6ff3-6d8a-4c46-f11a-2abc8380fc8b"
      },
      "outputs": [
        {
          "output_type": "stream",
          "name": "stdout",
          "text": [
            "Model successfully loaded\n"
          ]
        }
      ],
      "source": [
        "from ultralytics import YOLO\n",
        "#weights_path = 'yolov8m-seg.pt'  # pretrained model (recommended for training)\n",
        "weights_path = '/content/best.pt'\n",
        "\n",
        "# Load a model\n",
        "model = YOLO(weights_path)\n",
        "print(\"Model successfully loaded\")"
      ]
    },
    {
      "cell_type": "code",
      "execution_count": null,
      "metadata": {
        "colab": {
          "base_uri": "https://localhost:8080/"
        },
        "id": "a_NQcDpzFf7f",
        "outputId": "25084cd6-0f03-4863-9ba3-a01d4da03ffd"
      },
      "outputs": [
        {
          "output_type": "stream",
          "name": "stdout",
          "text": [
            "Ultralytics YOLOv8.2.76 🚀 Python-3.10.12 torch-2.3.1+cu121 CUDA:0 (NVIDIA A100-SXM4-40GB, 40514MiB)\n",
            "\u001b[34m\u001b[1mengine/trainer: \u001b[0mtask=segment, mode=train, model=/content/best.pt, data=/content/de-3/data.yaml, epochs=15, time=None, patience=100, batch=16, imgsz=640, save=True, save_period=-1, cache=False, device=None, workers=8, project=None, name=train, exist_ok=False, pretrained=True, optimizer=auto, verbose=True, seed=0, deterministic=True, single_cls=False, rect=False, cos_lr=False, close_mosaic=10, resume=False, amp=True, fraction=1.0, profile=False, freeze=None, multi_scale=False, overlap_mask=True, mask_ratio=4, dropout=0.0, val=True, split=val, save_json=False, save_hybrid=False, conf=None, iou=0.7, max_det=300, half=False, dnn=False, plots=True, source=None, vid_stride=1, stream_buffer=False, visualize=False, augment=False, agnostic_nms=False, classes=None, retina_masks=False, embed=None, show=False, save_frames=False, save_txt=False, save_conf=False, save_crop=False, show_labels=True, show_conf=True, show_boxes=True, line_width=None, format=torchscript, keras=False, optimize=False, int8=False, dynamic=False, simplify=False, opset=None, workspace=4, nms=False, lr0=0.01, lrf=0.01, momentum=0.937, weight_decay=0.0005, warmup_epochs=3.0, warmup_momentum=0.8, warmup_bias_lr=0.1, box=7.5, cls=0.5, dfl=1.5, pose=12.0, kobj=1.0, label_smoothing=0.0, nbs=64, hsv_h=0.015, hsv_s=0.7, hsv_v=0.4, degrees=0.0, translate=0.1, scale=0.5, shear=0.0, perspective=0.0, flipud=0.0, fliplr=0.5, bgr=0.0, mosaic=1.0, mixup=0.0, copy_paste=0.0, auto_augment=randaugment, erasing=0.4, crop_fraction=1.0, cfg=None, tracker=botsort.yaml, save_dir=runs/segment/train\n",
            "Downloading https://ultralytics.com/assets/Arial.ttf to '/root/.config/Ultralytics/Arial.ttf'...\n"
          ]
        },
        {
          "output_type": "stream",
          "name": "stderr",
          "text": [
            "100%|██████████| 755k/755k [00:00<00:00, 110MB/s]\n"
          ]
        },
        {
          "output_type": "stream",
          "name": "stdout",
          "text": [
            "\n",
            "                   from  n    params  module                                       arguments                     \n",
            "  0                  -1  1      1392  ultralytics.nn.modules.conv.Conv             [3, 48, 3, 2]                 \n",
            "  1                  -1  1     41664  ultralytics.nn.modules.conv.Conv             [48, 96, 3, 2]                \n",
            "  2                  -1  2    111360  ultralytics.nn.modules.block.C2f             [96, 96, 2, True]             \n",
            "  3                  -1  1    166272  ultralytics.nn.modules.conv.Conv             [96, 192, 3, 2]               \n",
            "  4                  -1  4    813312  ultralytics.nn.modules.block.C2f             [192, 192, 4, True]           \n",
            "  5                  -1  1    664320  ultralytics.nn.modules.conv.Conv             [192, 384, 3, 2]              \n",
            "  6                  -1  4   3248640  ultralytics.nn.modules.block.C2f             [384, 384, 4, True]           \n",
            "  7                  -1  1   1991808  ultralytics.nn.modules.conv.Conv             [384, 576, 3, 2]              \n",
            "  8                  -1  2   3985920  ultralytics.nn.modules.block.C2f             [576, 576, 2, True]           \n",
            "  9                  -1  1    831168  ultralytics.nn.modules.block.SPPF            [576, 576, 5]                 \n",
            " 10                  -1  1         0  torch.nn.modules.upsampling.Upsample         [None, 2, 'nearest']          \n",
            " 11             [-1, 6]  1         0  ultralytics.nn.modules.conv.Concat           [1]                           \n",
            " 12                  -1  2   1993728  ultralytics.nn.modules.block.C2f             [960, 384, 2]                 \n",
            " 13                  -1  1         0  torch.nn.modules.upsampling.Upsample         [None, 2, 'nearest']          \n",
            " 14             [-1, 4]  1         0  ultralytics.nn.modules.conv.Concat           [1]                           \n",
            " 15                  -1  2    517632  ultralytics.nn.modules.block.C2f             [576, 192, 2]                 \n",
            " 16                  -1  1    332160  ultralytics.nn.modules.conv.Conv             [192, 192, 3, 2]              \n",
            " 17            [-1, 12]  1         0  ultralytics.nn.modules.conv.Concat           [1]                           \n",
            " 18                  -1  2   1846272  ultralytics.nn.modules.block.C2f             [576, 384, 2]                 \n",
            " 19                  -1  1   1327872  ultralytics.nn.modules.conv.Conv             [384, 384, 3, 2]              \n",
            " 20             [-1, 9]  1         0  ultralytics.nn.modules.conv.Concat           [1]                           \n",
            " 21                  -1  2   4207104  ultralytics.nn.modules.block.C2f             [960, 576, 2]                 \n",
            " 22        [15, 18, 21]  1   5183342  ultralytics.nn.modules.head.Segment          [42, 32, 192, [192, 384, 576]]\n",
            "YOLOv8m-seg summary: 331 layers, 27,263,966 parameters, 27,263,950 gradients, 110.5 GFLOPs\n",
            "\n",
            "Transferred 537/537 items from pretrained weights\n",
            "\u001b[34m\u001b[1mTensorBoard: \u001b[0mStart with 'tensorboard --logdir runs/segment/train', view at http://localhost:6006/\n",
            "Freezing layer 'model.22.dfl.conv.weight'\n",
            "\u001b[34m\u001b[1mAMP: \u001b[0mrunning Automatic Mixed Precision (AMP) checks with YOLOv8n...\n",
            "Downloading https://github.com/ultralytics/assets/releases/download/v8.2.0/yolov8n.pt to 'yolov8n.pt'...\n"
          ]
        },
        {
          "output_type": "stream",
          "name": "stderr",
          "text": [
            "100%|██████████| 6.25M/6.25M [00:00<00:00, 173MB/s]\n"
          ]
        },
        {
          "output_type": "stream",
          "name": "stdout",
          "text": [
            "\u001b[34m\u001b[1mAMP: \u001b[0mchecks passed ✅\n"
          ]
        },
        {
          "output_type": "stream",
          "name": "stderr",
          "text": [
            "\u001b[34m\u001b[1mtrain: \u001b[0mScanning /content/de-3/train/labels... 8777 images, 0 backgrounds, 0 corrupt: 100%|██████████| 8777/8777 [00:10<00:00, 832.04it/s]\n"
          ]
        },
        {
          "output_type": "stream",
          "name": "stdout",
          "text": [
            "\u001b[34m\u001b[1mtrain: \u001b[0mNew cache created: /content/de-3/train/labels.cache\n",
            "\u001b[34m\u001b[1malbumentations: \u001b[0mBlur(p=0.01, blur_limit=(3, 7)), MedianBlur(p=0.01, blur_limit=(3, 7)), ToGray(p=0.01), CLAHE(p=0.01, clip_limit=(1, 4.0), tile_grid_size=(8, 8))\n"
          ]
        },
        {
          "output_type": "stream",
          "name": "stderr",
          "text": [
            "os.fork() was called. os.fork() is incompatible with multithreaded code, and JAX is multithreaded, so this will likely lead to a deadlock.\n",
            "\u001b[34m\u001b[1mval: \u001b[0mScanning /content/de-3/valid/labels... 1156 images, 2 backgrounds, 0 corrupt: 100%|██████████| 1156/1156 [00:01<00:00, 636.35it/s]\n"
          ]
        },
        {
          "output_type": "stream",
          "name": "stdout",
          "text": [
            "\u001b[34m\u001b[1mval: \u001b[0mNew cache created: /content/de-3/valid/labels.cache\n",
            "Plotting labels to runs/segment/train/labels.jpg... \n",
            "\u001b[34m\u001b[1moptimizer:\u001b[0m 'optimizer=auto' found, ignoring 'lr0=0.01' and 'momentum=0.937' and determining best 'optimizer', 'lr0' and 'momentum' automatically... \n",
            "\u001b[34m\u001b[1moptimizer:\u001b[0m AdamW(lr=0.000217, momentum=0.9) with parameter groups 86 weight(decay=0.0), 97 weight(decay=0.0005), 96 bias(decay=0.0)\n",
            "\u001b[34m\u001b[1mTensorBoard: \u001b[0mmodel graph visualization added ✅\n",
            "Image sizes 640 train, 640 val\n",
            "Using 8 dataloader workers\n",
            "Logging results to \u001b[1mruns/segment/train\u001b[0m\n",
            "Starting training for 15 epochs...\n",
            "\n",
            "      Epoch    GPU_mem   box_loss   seg_loss   cls_loss   dfl_loss  Instances       Size\n"
          ]
        },
        {
          "output_type": "stream",
          "name": "stderr",
          "text": [
            "       1/15      9.03G      1.688      2.797      1.014       1.17        164        640: 100%|██████████| 549/549 [05:41<00:00,  1.61it/s]\n",
            "                 Class     Images  Instances      Box(P          R      mAP50  mAP50-95)     Mask(P          R      mAP50  mAP50-95): 100%|██████████| 37/37 [00:11<00:00,  3.34it/s]\n"
          ]
        },
        {
          "output_type": "stream",
          "name": "stdout",
          "text": [
            "                   all       1156      22502      0.813      0.825      0.855      0.449      0.746      0.761      0.761       0.33\n",
            "\n",
            "      Epoch    GPU_mem   box_loss   seg_loss   cls_loss   dfl_loss  Instances       Size\n"
          ]
        },
        {
          "output_type": "stream",
          "name": "stderr",
          "text": [
            "       2/15       8.6G      1.706      2.829       1.03      1.183        343        640: 100%|██████████| 549/549 [05:22<00:00,  1.70it/s]\n",
            "                 Class     Images  Instances      Box(P          R      mAP50  mAP50-95)     Mask(P          R      mAP50  mAP50-95): 100%|██████████| 37/37 [00:11<00:00,  3.16it/s]\n"
          ]
        },
        {
          "output_type": "stream",
          "name": "stdout",
          "text": [
            "                   all       1156      22502      0.862      0.834      0.877      0.457      0.806      0.764      0.782      0.336\n",
            "\n",
            "      Epoch    GPU_mem   box_loss   seg_loss   cls_loss   dfl_loss  Instances       Size\n"
          ]
        },
        {
          "output_type": "stream",
          "name": "stderr",
          "text": [
            "       3/15      8.74G      1.714      2.837      1.044       1.19        199        640: 100%|██████████| 549/549 [05:17<00:00,  1.73it/s]\n",
            "                 Class     Images  Instances      Box(P          R      mAP50  mAP50-95)     Mask(P          R      mAP50  mAP50-95): 100%|██████████| 37/37 [00:11<00:00,  3.27it/s]\n"
          ]
        },
        {
          "output_type": "stream",
          "name": "stdout",
          "text": [
            "                   all       1156      22502       0.83      0.838      0.863      0.445      0.766      0.783      0.772      0.329\n",
            "\n",
            "      Epoch    GPU_mem   box_loss   seg_loss   cls_loss   dfl_loss  Instances       Size\n"
          ]
        },
        {
          "output_type": "stream",
          "name": "stderr",
          "text": [
            "       4/15      8.88G      1.716      2.838      1.041      1.193        219        640: 100%|██████████| 549/549 [05:18<00:00,  1.73it/s]\n",
            "                 Class     Images  Instances      Box(P          R      mAP50  mAP50-95)     Mask(P          R      mAP50  mAP50-95): 100%|██████████| 37/37 [00:11<00:00,  3.21it/s]\n"
          ]
        },
        {
          "output_type": "stream",
          "name": "stdout",
          "text": [
            "                   all       1156      22502      0.631      0.726      0.706      0.371      0.581       0.67      0.626      0.268\n",
            "\n",
            "      Epoch    GPU_mem   box_loss   seg_loss   cls_loss   dfl_loss  Instances       Size\n"
          ]
        },
        {
          "output_type": "stream",
          "name": "stderr",
          "text": [
            "       5/15      8.77G      1.688      2.799      1.009      1.181        250        640: 100%|██████████| 549/549 [05:16<00:00,  1.73it/s]\n",
            "                 Class     Images  Instances      Box(P          R      mAP50  mAP50-95)     Mask(P          R      mAP50  mAP50-95): 100%|██████████| 37/37 [00:11<00:00,  3.27it/s]\n"
          ]
        },
        {
          "output_type": "stream",
          "name": "stdout",
          "text": [
            "                   all       1156      22502       0.83      0.804      0.861      0.443      0.767       0.75      0.774      0.328\n",
            "Closing dataloader mosaic\n",
            "\u001b[34m\u001b[1malbumentations: \u001b[0mBlur(p=0.01, blur_limit=(3, 7)), MedianBlur(p=0.01, blur_limit=(3, 7)), ToGray(p=0.01), CLAHE(p=0.01, clip_limit=(1, 4.0), tile_grid_size=(8, 8))\n"
          ]
        },
        {
          "output_type": "stream",
          "name": "stderr",
          "text": [
            "os.fork() was called. os.fork() is incompatible with multithreaded code, and JAX is multithreaded, so this will likely lead to a deadlock.\n"
          ]
        },
        {
          "output_type": "stream",
          "name": "stdout",
          "text": [
            "\n",
            "      Epoch    GPU_mem   box_loss   seg_loss   cls_loss   dfl_loss  Instances       Size\n"
          ]
        },
        {
          "output_type": "stream",
          "name": "stderr",
          "text": [
            "       6/15      8.68G      1.669      2.729     0.9141      1.213        172        640: 100%|██████████| 549/549 [02:49<00:00,  3.24it/s]\n",
            "                 Class     Images  Instances      Box(P          R      mAP50  mAP50-95)     Mask(P          R      mAP50  mAP50-95): 100%|██████████| 37/37 [00:10<00:00,  3.38it/s]\n"
          ]
        },
        {
          "output_type": "stream",
          "name": "stdout",
          "text": [
            "                   all       1156      22502      0.844       0.84      0.878      0.462      0.787      0.783      0.791      0.344\n",
            "\n",
            "      Epoch    GPU_mem   box_loss   seg_loss   cls_loss   dfl_loss  Instances       Size\n"
          ]
        },
        {
          "output_type": "stream",
          "name": "stderr",
          "text": [
            "       7/15      8.65G       1.64      2.689     0.8791      1.196        154        640: 100%|██████████| 549/549 [02:39<00:00,  3.45it/s]\n",
            "                 Class     Images  Instances      Box(P          R      mAP50  mAP50-95)     Mask(P          R      mAP50  mAP50-95): 100%|██████████| 37/37 [00:10<00:00,  3.44it/s]\n"
          ]
        },
        {
          "output_type": "stream",
          "name": "stdout",
          "text": [
            "                   all       1156      22502      0.843      0.837      0.868      0.458      0.785      0.776      0.786      0.344\n",
            "\n",
            "      Epoch    GPU_mem   box_loss   seg_loss   cls_loss   dfl_loss  Instances       Size\n"
          ]
        },
        {
          "output_type": "stream",
          "name": "stderr",
          "text": [
            "       8/15      8.47G      1.611      2.634     0.8434      1.182        205        640: 100%|██████████| 549/549 [02:39<00:00,  3.44it/s]\n",
            "                 Class     Images  Instances      Box(P          R      mAP50  mAP50-95)     Mask(P          R      mAP50  mAP50-95): 100%|██████████| 37/37 [00:10<00:00,  3.47it/s]\n"
          ]
        },
        {
          "output_type": "stream",
          "name": "stdout",
          "text": [
            "                   all       1156      22502      0.838      0.834      0.875      0.466      0.782      0.775      0.789      0.351\n",
            "\n",
            "      Epoch    GPU_mem   box_loss   seg_loss   cls_loss   dfl_loss  Instances       Size\n"
          ]
        },
        {
          "output_type": "stream",
          "name": "stderr",
          "text": [
            "       9/15      8.57G      1.582      2.592      0.817      1.167        186        640: 100%|██████████| 549/549 [02:39<00:00,  3.44it/s]\n",
            "                 Class     Images  Instances      Box(P          R      mAP50  mAP50-95)     Mask(P          R      mAP50  mAP50-95): 100%|██████████| 37/37 [00:10<00:00,  3.45it/s]\n"
          ]
        },
        {
          "output_type": "stream",
          "name": "stdout",
          "text": [
            "                   all       1156      22502      0.868      0.875      0.896       0.48      0.805      0.814      0.808      0.356\n",
            "\n",
            "      Epoch    GPU_mem   box_loss   seg_loss   cls_loss   dfl_loss  Instances       Size\n"
          ]
        },
        {
          "output_type": "stream",
          "name": "stderr",
          "text": [
            "      10/15      8.67G      1.559      2.551     0.7963      1.159        195        640: 100%|██████████| 549/549 [02:40<00:00,  3.42it/s]\n",
            "                 Class     Images  Instances      Box(P          R      mAP50  mAP50-95)     Mask(P          R      mAP50  mAP50-95): 100%|██████████| 37/37 [00:10<00:00,  3.45it/s]\n"
          ]
        },
        {
          "output_type": "stream",
          "name": "stdout",
          "text": [
            "                   all       1156      22502       0.86      0.873      0.891      0.486        0.8      0.813      0.807      0.357\n",
            "\n",
            "      Epoch    GPU_mem   box_loss   seg_loss   cls_loss   dfl_loss  Instances       Size\n"
          ]
        },
        {
          "output_type": "stream",
          "name": "stderr",
          "text": [
            "      11/15      8.55G      1.528       2.51     0.7692      1.144        199        640: 100%|██████████| 549/549 [02:40<00:00,  3.41it/s]\n",
            "                 Class     Images  Instances      Box(P          R      mAP50  mAP50-95)     Mask(P          R      mAP50  mAP50-95): 100%|██████████| 37/37 [00:10<00:00,  3.44it/s]\n"
          ]
        },
        {
          "output_type": "stream",
          "name": "stdout",
          "text": [
            "                   all       1156      22502      0.872      0.868      0.897      0.477      0.815      0.811      0.811      0.363\n",
            "\n",
            "      Epoch    GPU_mem   box_loss   seg_loss   cls_loss   dfl_loss  Instances       Size\n"
          ]
        },
        {
          "output_type": "stream",
          "name": "stderr",
          "text": [
            "      12/15      8.54G      1.508      2.477       0.75      1.132        184        640: 100%|██████████| 549/549 [02:39<00:00,  3.45it/s]\n",
            "                 Class     Images  Instances      Box(P          R      mAP50  mAP50-95)     Mask(P          R      mAP50  mAP50-95): 100%|██████████| 37/37 [00:10<00:00,  3.47it/s]\n"
          ]
        },
        {
          "output_type": "stream",
          "name": "stdout",
          "text": [
            "                   all       1156      22502      0.863      0.866      0.898      0.489      0.805      0.806      0.814      0.363\n",
            "\n",
            "      Epoch    GPU_mem   box_loss   seg_loss   cls_loss   dfl_loss  Instances       Size\n"
          ]
        },
        {
          "output_type": "stream",
          "name": "stderr",
          "text": [
            "      13/15      8.38G       1.48      2.441     0.7327       1.12        238        640: 100%|██████████| 549/549 [02:38<00:00,  3.47it/s]\n",
            "                 Class     Images  Instances      Box(P          R      mAP50  mAP50-95)     Mask(P          R      mAP50  mAP50-95): 100%|██████████| 37/37 [00:10<00:00,  3.45it/s]\n"
          ]
        },
        {
          "output_type": "stream",
          "name": "stdout",
          "text": [
            "                   all       1156      22502      0.878      0.873      0.903      0.493      0.835      0.802      0.824      0.369\n",
            "\n",
            "      Epoch    GPU_mem   box_loss   seg_loss   cls_loss   dfl_loss  Instances       Size\n"
          ]
        },
        {
          "output_type": "stream",
          "name": "stderr",
          "text": [
            "      14/15       8.5G      1.458      2.412     0.7177      1.109        208        640: 100%|██████████| 549/549 [02:39<00:00,  3.45it/s]\n",
            "                 Class     Images  Instances      Box(P          R      mAP50  mAP50-95)     Mask(P          R      mAP50  mAP50-95): 100%|██████████| 37/37 [00:10<00:00,  3.42it/s]\n"
          ]
        },
        {
          "output_type": "stream",
          "name": "stdout",
          "text": [
            "                   all       1156      22502      0.855      0.873      0.896      0.496       0.79      0.813      0.813      0.366\n",
            "\n",
            "      Epoch    GPU_mem   box_loss   seg_loss   cls_loss   dfl_loss  Instances       Size\n"
          ]
        },
        {
          "output_type": "stream",
          "name": "stderr",
          "text": [
            "      15/15      8.38G      1.439      2.379      0.704      1.101        185        640: 100%|██████████| 549/549 [02:41<00:00,  3.41it/s]\n",
            "                 Class     Images  Instances      Box(P          R      mAP50  mAP50-95)     Mask(P          R      mAP50  mAP50-95): 100%|██████████| 37/37 [00:10<00:00,  3.43it/s]\n"
          ]
        },
        {
          "output_type": "stream",
          "name": "stdout",
          "text": [
            "                   all       1156      22502      0.874      0.881      0.901      0.497      0.821      0.815      0.821      0.372\n",
            "\n",
            "15 epochs completed in 0.950 hours.\n",
            "Optimizer stripped from runs/segment/train/weights/last.pt, 54.9MB\n",
            "Optimizer stripped from runs/segment/train/weights/best.pt, 54.9MB\n",
            "\n",
            "Validating runs/segment/train/weights/best.pt...\n",
            "Ultralytics YOLOv8.2.76 🚀 Python-3.10.12 torch-2.3.1+cu121 CUDA:0 (NVIDIA A100-SXM4-40GB, 40514MiB)\n",
            "YOLOv8m-seg summary (fused): 245 layers, 27,246,702 parameters, 0 gradients, 110.1 GFLOPs\n"
          ]
        },
        {
          "output_type": "stream",
          "name": "stderr",
          "text": [
            "                 Class     Images  Instances      Box(P          R      mAP50  mAP50-95)     Mask(P          R      mAP50  mAP50-95): 100%|██████████| 37/37 [00:24<00:00,  1.52it/s]\n"
          ]
        },
        {
          "output_type": "stream",
          "name": "stdout",
          "text": [
            "                   all       1156      22502      0.874      0.881      0.901      0.497      0.821      0.816      0.822      0.372\n",
            "                    11         40         40      0.919       0.95      0.928      0.472      0.949      0.975      0.976      0.487\n",
            "                    12         40         40      0.929      0.975      0.957      0.483      0.847      0.875      0.858      0.398\n",
            "                    13         39         39      0.903      0.923      0.917       0.47       0.63      0.641      0.492      0.199\n",
            "                    14         38         38      0.897      0.947      0.905      0.433      0.456      0.474      0.344     0.0964\n",
            "                    15         32         32      0.789      0.906       0.89       0.45      0.742      0.844      0.822      0.251\n",
            "                    16         37         37      0.857      0.919      0.967      0.534      0.839      0.892      0.941      0.347\n",
            "                    17         37         37       0.83      0.923       0.93      0.533       0.78       0.86      0.844      0.402\n",
            "                    18         18         18      0.747      0.822      0.852      0.421      0.642      0.699      0.704      0.316\n",
            "                    21         40         40      0.968       0.95       0.96      0.491       0.97       0.95      0.956      0.457\n",
            "                    22         40         40      0.908      0.875      0.881      0.472      0.962      0.925      0.939      0.454\n",
            "                    23         40         40      0.848      0.875      0.865      0.469       0.78        0.8      0.744      0.214\n",
            "                    24         38         38      0.858      0.868      0.869      0.375      0.419      0.421      0.303     0.0643\n",
            "                    25         33         33      0.822      0.843      0.823      0.443      0.852      0.848       0.87      0.323\n",
            "                    26         34         34       0.86      0.904       0.89      0.489      0.859      0.897       0.89      0.351\n",
            "                    27         36         36      0.789      0.944      0.936      0.542      0.763      0.889      0.883      0.444\n",
            "                    28         20         20      0.728        0.8      0.867      0.424      0.719       0.75      0.815      0.368\n",
            "                    31         40         40      0.868       0.95      0.922      0.489      0.875       0.95      0.923      0.424\n",
            "                    32         41         41      0.932      0.902      0.932      0.452      0.963      0.927      0.965       0.47\n",
            "                    33         41         41      0.945      0.927       0.94      0.513      0.947      0.927      0.957      0.412\n",
            "                    34         39         39      0.973      0.949      0.977      0.576       0.92      0.886       0.92      0.433\n",
            "                    35         38         38      0.876      0.928      0.936       0.58      0.875      0.924      0.958      0.517\n",
            "                    36         27         27       0.82      0.889      0.905      0.662      0.822      0.889      0.905      0.553\n",
            "                    37         37         37      0.818       0.85      0.863       0.55      0.816      0.836      0.863      0.459\n",
            "                    38         27         27      0.812       0.96      0.908      0.607      0.811      0.951      0.908      0.552\n",
            "                    41         40         40      0.904      0.939      0.959      0.482      0.836       0.85      0.866      0.387\n",
            "                    42         41         41      0.902      0.895      0.963      0.489      0.901      0.889       0.94      0.411\n",
            "                    43         41         41      0.913      0.951      0.963      0.494      0.895      0.927      0.913      0.396\n",
            "                    44         38         38      0.839      0.974      0.958      0.512      0.859      0.921      0.911      0.361\n",
            "                    45         38         38      0.895      0.921      0.948      0.528      0.896      0.911       0.93      0.422\n",
            "                    46         28         28      0.865      0.893      0.947      0.614      0.874      0.893      0.931      0.497\n",
            "                    47         38         38      0.872      0.893      0.913      0.606      0.871      0.889      0.913      0.501\n",
            "                    48         27         27      0.859          1      0.945      0.624      0.865          1      0.945       0.55\n",
            "       Amalgam filling        838       4237      0.962      0.941      0.973       0.58      0.941      0.912      0.948      0.466\n",
            "        Apical Abcsess        258        482      0.833      0.647       0.75      0.373      0.808      0.602      0.698      0.249\n",
            "                Caries       1010       6412      0.845       0.32      0.481      0.188      0.826      0.291      0.442      0.147\n",
            "   Preferbricated post        393        922      0.842      0.696      0.772      0.353       0.68      0.529      0.526       0.16\n",
            " Root canal Obturatien        761       4498      0.855       0.65      0.778       0.38      0.652      0.462      0.498      0.156\n",
            "     composite filling        651       2218      0.896      0.771      0.868      0.421      0.844        0.7      0.789      0.295\n",
            "                 crown        409       1758      0.975      0.991      0.994       0.66      0.907      0.921      0.916      0.438\n",
            "               implant         74        359      0.986      0.997      0.995      0.651      0.935      0.944      0.943      0.496\n",
            "         residual root        221        473      0.911      0.844      0.911      0.498      0.844      0.769      0.809      0.346\n",
            "Speed: 0.2ms preprocess, 2.2ms inference, 0.0ms loss, 2.0ms postprocess per image\n",
            "Results saved to \u001b[1mruns/segment/train\u001b[0m\n",
            "Ultralytics YOLOv8.2.76 🚀 Python-3.10.12 torch-2.3.1+cu121 CUDA:0 (NVIDIA A100-SXM4-40GB, 40514MiB)\n",
            "YOLOv8m-seg summary (fused): 245 layers, 27,246,702 parameters, 0 gradients, 110.1 GFLOPs\n"
          ]
        },
        {
          "output_type": "stream",
          "name": "stderr",
          "text": [
            "\u001b[34m\u001b[1mval: \u001b[0mScanning /content/de-3/valid/labels.cache... 1156 images, 2 backgrounds, 0 corrupt: 100%|██████████| 1156/1156 [00:00<?, ?it/s]\n",
            "os.fork() was called. os.fork() is incompatible with multithreaded code, and JAX is multithreaded, so this will likely lead to a deadlock.\n",
            "                 Class     Images  Instances      Box(P          R      mAP50  mAP50-95)     Mask(P          R      mAP50  mAP50-95): 100%|██████████| 73/73 [00:27<00:00,  2.61it/s]\n"
          ]
        },
        {
          "output_type": "stream",
          "name": "stdout",
          "text": [
            "                   all       1156      22502      0.874      0.881      0.901        0.5      0.822      0.814      0.822      0.371\n",
            "                    11         40         40      0.919       0.95      0.931      0.474      0.949      0.975      0.976      0.478\n",
            "                    12         40         40      0.928      0.975      0.957      0.485      0.852      0.875      0.857      0.388\n",
            "                    13         39         39      0.903      0.923      0.917      0.465      0.655      0.667      0.529      0.203\n",
            "                    14         38         38      0.897      0.947      0.907      0.438      0.433      0.447      0.295     0.0975\n",
            "                    15         32         32      0.788      0.906       0.89      0.451      0.743      0.844      0.822      0.252\n",
            "                    16         37         37      0.857      0.919      0.968      0.534       0.84      0.892      0.942      0.347\n",
            "                    17         37         37       0.83      0.922       0.93      0.537      0.804      0.886      0.896      0.407\n",
            "                    18         18         18      0.747      0.822      0.852      0.423      0.642      0.698      0.704      0.316\n",
            "                    21         40         40      0.968       0.95       0.96      0.497      0.971       0.95      0.955       0.46\n",
            "                    22         40         40      0.909      0.875      0.881      0.465      0.963      0.925      0.939       0.45\n",
            "                    23         40         40      0.848      0.875      0.864      0.468      0.756      0.775      0.722      0.216\n",
            "                    24         38         38      0.858      0.868      0.868      0.371      0.419      0.421      0.313     0.0676\n",
            "                    25         33         33      0.822      0.841      0.822      0.448      0.882      0.879      0.909      0.327\n",
            "                    26         34         34       0.86      0.903       0.89      0.496      0.859      0.896       0.89      0.352\n",
            "                    27         36         36       0.79      0.944      0.935      0.563      0.787      0.917      0.923      0.448\n",
            "                    28         20         20      0.727        0.8      0.867      0.429      0.721       0.75      0.815      0.371\n",
            "                    31         40         40      0.868       0.95      0.922      0.498      0.853      0.925        0.9      0.432\n",
            "                    32         41         41      0.933      0.902      0.933      0.452      0.964      0.927      0.965      0.472\n",
            "                    33         41         41      0.945      0.927       0.94      0.512      0.948      0.927      0.957      0.409\n",
            "                    34         39         39      0.974      0.949      0.978      0.585       0.92      0.883       0.92      0.426\n",
            "                    35         38         38      0.876      0.928      0.936      0.586      0.875      0.923      0.959      0.514\n",
            "                    36         27         27       0.82      0.889      0.906      0.662      0.822      0.889      0.906       0.55\n",
            "                    37         37         37      0.818      0.849      0.862      0.553      0.815      0.835      0.862       0.46\n",
            "                    38         27         27      0.812       0.96      0.911      0.608      0.811      0.951      0.911      0.563\n",
            "                    41         40         40      0.904      0.939      0.959      0.486      0.839       0.85      0.865      0.385\n",
            "                    42         41         41      0.902      0.895      0.962      0.492      0.876      0.864      0.892      0.396\n",
            "                    43         41         41      0.914      0.951      0.961      0.499      0.896      0.927      0.912      0.391\n",
            "                    44         38         38       0.84      0.974      0.958      0.515      0.872      0.921      0.911      0.356\n",
            "                    45         38         38      0.894      0.921      0.948      0.527      0.896       0.91       0.93      0.424\n",
            "                    46         28         28      0.864      0.893      0.947      0.623      0.875      0.893      0.931      0.497\n",
            "                    47         38         38      0.872      0.893      0.912       0.61      0.871      0.889      0.912      0.503\n",
            "                    48         27         27      0.858          1      0.945      0.624      0.865          1      0.945      0.555\n",
            "       Amalgam filling        838       4237      0.962      0.942      0.973       0.58      0.938      0.907      0.945       0.46\n",
            "        Apical Abcsess        258        482      0.836      0.649      0.754      0.374      0.806        0.6      0.693      0.247\n",
            "                Caries       1010       6412      0.846       0.32      0.482      0.189      0.822      0.286      0.433      0.143\n",
            "   Preferbricated post        393        922      0.846      0.696      0.775      0.352      0.675       0.52      0.518      0.154\n",
            " Root canal Obturatien        761       4498      0.854      0.649      0.776       0.38      0.649      0.454      0.492      0.153\n",
            "     composite filling        651       2218      0.898      0.772       0.87      0.422      0.839      0.693      0.782      0.289\n",
            "                 crown        409       1758      0.975      0.992      0.994      0.662      0.905      0.917      0.912      0.434\n",
            "               implant         74        359      0.984      0.997      0.995      0.651      0.934      0.943       0.94      0.494\n",
            "         residual root        221        473      0.908      0.844      0.908      0.498      0.844      0.763      0.809      0.341\n",
            "Speed: 0.4ms preprocess, 4.7ms inference, 0.0ms loss, 2.3ms postprocess per image\n",
            "Results saved to \u001b[1mruns/segment/train2\u001b[0m\n",
            "Ultralytics YOLOv8.2.76 🚀 Python-3.10.12 torch-2.3.1+cu121 CUDA:0 (NVIDIA A100-SXM4-40GB, 40514MiB)\n"
          ]
        },
        {
          "output_type": "stream",
          "name": "stderr",
          "text": [
            "\u001b[34m\u001b[1mval: \u001b[0mScanning /content/de-3/test/labels... 73 images, 0 backgrounds, 0 corrupt: 100%|██████████| 73/73 [00:00<00:00, 739.94it/s]"
          ]
        },
        {
          "output_type": "stream",
          "name": "stdout",
          "text": [
            "\u001b[34m\u001b[1mval: \u001b[0mNew cache created: /content/de-3/test/labels.cache\n"
          ]
        },
        {
          "output_type": "stream",
          "name": "stderr",
          "text": [
            "\n",
            "os.fork() was called. os.fork() is incompatible with multithreaded code, and JAX is multithreaded, so this will likely lead to a deadlock.\n",
            "                 Class     Images  Instances      Box(P          R      mAP50  mAP50-95)     Mask(P          R      mAP50  mAP50-95): 100%|██████████| 5/5 [00:14<00:00,  2.84s/it]\n"
          ]
        },
        {
          "output_type": "stream",
          "name": "stdout",
          "text": [
            "                   all         73       2131      0.912      0.901      0.934      0.514      0.855      0.846      0.857       0.38\n",
            "                    11         73         73      0.931      0.932      0.965      0.557      0.945      0.945      0.977      0.461\n",
            "                    12         73         73      0.907      0.877      0.944      0.503      0.892      0.863      0.922      0.409\n",
            "                    13         72         72      0.905      0.958       0.95      0.462      0.734      0.778      0.671      0.251\n",
            "                    14         68         68      0.863      0.833      0.923      0.433      0.468      0.452      0.395      0.107\n",
            "                    15         66         66       0.86      0.894      0.916       0.44        0.8      0.833      0.842      0.313\n",
            "                    16         66         66      0.901      0.894      0.952      0.557      0.863      0.864      0.899      0.413\n",
            "                    17         69         69      0.889      0.927      0.947      0.579       0.83       0.87      0.856      0.388\n",
            "                    18         46         46      0.908      0.826      0.911      0.444      0.883      0.804      0.867      0.345\n",
            "                    21         73         73       0.93      0.904      0.969      0.468      0.901      0.877      0.918        0.4\n",
            "                    22         72         73      0.885      0.822      0.896      0.458      0.899      0.836      0.929      0.392\n",
            "                    23         72         73      0.913      0.861      0.941      0.453      0.826       0.78      0.813       0.29\n",
            "                    24         65         66      0.882      0.792      0.887      0.386      0.461      0.415      0.398      0.097\n",
            "                    25         69         70       0.89       0.81      0.908      0.429      0.782      0.714      0.779      0.311\n",
            "                    26         63         63      0.918      0.884      0.931      0.526      0.868      0.837      0.868      0.397\n",
            "                    27         69         69      0.894      0.851      0.893       0.51      0.863      0.823       0.84      0.359\n",
            "                    28         47         47      0.843      0.851       0.88      0.416      0.796      0.809      0.781      0.357\n",
            "                    31         73         73      0.915      0.883      0.935      0.489      0.887      0.856      0.898      0.386\n",
            "                    32         72         72      0.948      0.903      0.947      0.508      0.934      0.889      0.908      0.397\n",
            "                    33         72         72      0.969      0.944      0.955      0.509      0.954      0.931      0.938      0.364\n",
            "                    34         71         71      0.957      0.935      0.947      0.524      0.928      0.907      0.917       0.42\n",
            "                    35         69         69      0.978      0.957      0.963      0.576      0.978      0.957      0.963      0.485\n",
            "                    36         60         61      0.961      0.902      0.944      0.643      0.961      0.902      0.944      0.559\n",
            "                    37         67         67      0.904      0.839      0.917      0.596       0.92      0.855      0.933      0.482\n",
            "                    38         40         40       0.85      0.925      0.872      0.538       0.85      0.925      0.872      0.487\n",
            "                    41         73         73      0.951      0.959      0.965      0.528      0.883       0.89      0.888      0.337\n",
            "                    42         73         73      0.888      0.918      0.929      0.523      0.861       0.89      0.893      0.358\n",
            "                    43         73         73       0.93      0.945      0.929      0.529      0.916      0.932      0.901      0.348\n",
            "                    44         72         73      0.943      0.973      0.964      0.527      0.863       0.89      0.855      0.343\n",
            "                    45         71         71      0.958      0.971      0.972      0.531      0.903      0.915      0.917      0.401\n",
            "                    46         61         61      0.915      0.934      0.951      0.636      0.915      0.934      0.964      0.501\n",
            "                    47         68         68      0.892      0.956      0.958      0.633      0.892      0.956      0.958      0.516\n",
            "                    48         47         47      0.903      0.957      0.924      0.532      0.903      0.957      0.924      0.479\n",
            "Speed: 1.9ms preprocess, 27.0ms inference, 0.0ms loss, 13.1ms postprocess per image\n",
            "Results saved to \u001b[1mruns/segment/train3\u001b[0m\n"
          ]
        }
      ],
      "source": [
        "# TRAIN, VALIDATE, AND TEST MODEL\n",
        "training = model.train(data=yaml_path, epochs=15)\n",
        "validation = model.val()\n",
        "testing = model.val(data=yaml_path, split='test')"
      ]
    },
    {
      "cell_type": "markdown",
      "metadata": {
        "id": "sQkTXAKfE2Gn"
      },
      "source": [
        "# Zip weights folder to be downloaded"
      ]
    },
    {
      "cell_type": "code",
      "execution_count": null,
      "metadata": {
        "id": "IdCt_F8domoj",
        "colab": {
          "base_uri": "https://localhost:8080/"
        },
        "outputId": "243d03aa-b5d0-40a9-9e1d-bf680ed8dc54"
      },
      "outputs": [
        {
          "output_type": "stream",
          "name": "stdout",
          "text": [
            "Successfully created zip file: /content/runs.zip\n"
          ]
        },
        {
          "output_type": "display_data",
          "data": {
            "text/plain": [
              "/content/runs.zip"
            ],
            "text/html": [
              "<a href='/content/runs.zip' target='_blank'>/content/runs.zip</a><br>"
            ]
          },
          "metadata": {}
        }
      ],
      "source": [
        "import shutil\n",
        "from IPython.display import FileLink\n",
        "\n",
        "\n",
        "directory_to_zip = \"/content/runs\"\n",
        "output_zip = \"/content/runs.zip\"\n",
        "\n",
        "# Zip the directory\n",
        "shutil.make_archive(output_zip.replace('.zip', ''), 'zip', directory_to_zip)\n",
        "\n",
        "# Check if the zip file was created successfully\n",
        "if os.path.exists(output_zip):\n",
        "    print(f\"Successfully created zip file: {output_zip}\")\n",
        "    # Provide a link to download the zip file\n",
        "    display(FileLink(output_zip))\n",
        "else:\n",
        "    print(\"Failed to create zip file\")\n"
      ]
    }
  ],
  "metadata": {
    "accelerator": "GPU",
    "colab": {
      "collapsed_sections": [
        "sC9OyXfhEe9q",
        "fu67LwtJEqLg",
        "sQkTXAKfE2Gn"
      ],
      "gpuType": "A100",
      "provenance": []
    },
    "kernelspec": {
      "display_name": "Python 3",
      "name": "python3"
    },
    "language_info": {
      "name": "python"
    }
  },
  "nbformat": 4,
  "nbformat_minor": 0
}